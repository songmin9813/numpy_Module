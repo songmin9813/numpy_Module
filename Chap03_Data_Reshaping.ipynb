{
 "cells": [
  {
   "cell_type": "code",
   "execution_count": 1,
   "id": "af2a120e",
   "metadata": {},
   "outputs": [],
   "source": [
    "import numpy as np"
   ]
  },
  {
   "cell_type": "markdown",
   "id": "9a41619b",
   "metadata": {},
   "source": [
    "### ravel, np.ravel\n",
    "- 다차원 배열을 1차원으로 변경\n",
    "- 'order' 파라미터\n",
    "  - 'C' - row 우선변경\n",
    "  - 'F' - column 우선 변경"
   ]
  },
  {
   "cell_type": "code",
   "execution_count": 3,
   "id": "ed2fd598",
   "metadata": {},
   "outputs": [
    {
     "name": "stdout",
     "output_type": "stream",
     "text": [
      "[[ 0  1  2  3  4]\n",
      " [ 5  6  7  8  9]\n",
      " [10 11 12 13 14]]\n"
     ]
    }
   ],
   "source": [
    "x=np.arange(15).reshape(3,5)\n",
    "print(x)"
   ]
  },
  {
   "cell_type": "code",
   "execution_count": 5,
   "id": "ab02c12b",
   "metadata": {},
   "outputs": [
    {
     "data": {
      "text/plain": [
       "array([ 0,  1,  2,  3,  4,  5,  6,  7,  8,  9, 10, 11, 12, 13, 14])"
      ]
     },
     "execution_count": 5,
     "metadata": {},
     "output_type": "execute_result"
    }
   ],
   "source": [
    "x.ravel()\n",
    "np.ravel(x)#같은 사용법"
   ]
  },
  {
   "cell_type": "markdown",
   "id": "65882540",
   "metadata": {},
   "source": [
    "### flatten\n",
    "- 다차원 배열을 1차원으로 변경\n",
    "- ravel과의 차이점 : **flatten은 copy를 생성하여 기존 값의 영향을 끼치지 않음(복사본 반환)**\n",
    "- 'order' 파라미터\n",
    "  - 'C' - row 우선변경\n",
    "  - 'F' - column 우선 변경"
   ]
  },
  {
   "cell_type": "code",
   "execution_count": 6,
   "id": "4fc4b3ee",
   "metadata": {},
   "outputs": [
    {
     "data": {
      "text/plain": [
       "array([ 0,  1,  2,  3,  4,  5,  6,  7,  8,  9, 10, 11, 12, 13, 14])"
      ]
     },
     "execution_count": 6,
     "metadata": {},
     "output_type": "execute_result"
    }
   ],
   "source": [
    "x.flatten()"
   ]
  },
  {
   "cell_type": "code",
   "execution_count": 7,
   "id": "3e5daa8a",
   "metadata": {},
   "outputs": [
    {
     "name": "stdout",
     "output_type": "stream",
     "text": [
      "[100   1   2   3   4   5   6   7   8   9  10  11  12  13  14]\n",
      "[[100   1   2   3   4]\n",
      " [  5   6   7   8   9]\n",
      " [ 10  11  12  13  14]]\n"
     ]
    }
   ],
   "source": [
    "temp=x.ravel()\n",
    "temp[0]=100\n",
    "print(temp)\n",
    "print(x) #원본이 전달되었기 때문에 temp와 x 값이 같은 것을 확인할 수 있다."
   ]
  },
  {
   "cell_type": "code",
   "execution_count": 8,
   "id": "0488fcd5",
   "metadata": {},
   "outputs": [
    {
     "name": "stdout",
     "output_type": "stream",
     "text": [
      "[105   1   2   3   4   5   6   7   8   9  10  11  12  13  14]\n",
      "[[100   1   2   3   4]\n",
      " [  5   6   7   8   9]\n",
      " [ 10  11  12  13  14]]\n"
     ]
    }
   ],
   "source": [
    "temp1=x.flatten()\n",
    "temp1[0]=105\n",
    "print(temp1)\n",
    "print(x) #복사본이 전달되었기 때문에 temp1과 x의 값이 다르다"
   ]
  },
  {
   "cell_type": "markdown",
   "id": "3dc0c9d7",
   "metadata": {},
   "source": [
    "- order 파라미터의 활용"
   ]
  },
  {
   "cell_type": "code",
   "execution_count": 9,
   "id": "9017c2a5",
   "metadata": {},
   "outputs": [
    {
     "data": {
      "text/plain": [
       "array([100,   1,   2,   3,   4,   5,   6,   7,   8,   9,  10,  11,  12,\n",
       "        13,  14])"
      ]
     },
     "execution_count": 9,
     "metadata": {},
     "output_type": "execute_result"
    }
   ],
   "source": [
    "np.ravel(x, order='C') #세로(행)를 기준으로 펼쳐지는 형태(기본값)"
   ]
  },
  {
   "cell_type": "code",
   "execution_count": 10,
   "id": "bbdd0939",
   "metadata": {},
   "outputs": [
    {
     "data": {
      "text/plain": [
       "array([100,   5,  10,   1,   6,  11,   2,   7,  12,   3,   8,  13,   4,\n",
       "         9,  14])"
      ]
     },
     "execution_count": 10,
     "metadata": {},
     "output_type": "execute_result"
    }
   ],
   "source": [
    "np.ravel(x,order='F') #가로(열)를 기준으로 펼쳐지는 형태"
   ]
  },
  {
   "cell_type": "code",
   "execution_count": 11,
   "id": "23695ec3",
   "metadata": {},
   "outputs": [
    {
     "name": "stdout",
     "output_type": "stream",
     "text": [
      "[[[ 0  1  2  3  4]\n",
      "  [ 5  6  7  8  9]\n",
      "  [10 11 12 13 14]]\n",
      "\n",
      " [[15 16 17 18 19]\n",
      "  [20 21 22 23 24]\n",
      "  [25 26 27 28 29]]]\n"
     ]
    }
   ],
   "source": [
    "x1=np.arange(30).reshape(2,3,5)\n",
    "print(x1)"
   ]
  },
  {
   "cell_type": "code",
   "execution_count": 15,
   "id": "74ee1223",
   "metadata": {},
   "outputs": [
    {
     "data": {
      "text/plain": [
       "array([ 0, 15,  5, 20, 10, 25,  1, 16,  6, 21, 11, 26,  2, 17,  7, 22, 12,\n",
       "       27,  3, 18,  8, 23, 13, 28,  4, 19,  9, 24, 14, 29])"
      ]
     },
     "execution_count": 15,
     "metadata": {},
     "output_type": "execute_result"
    }
   ],
   "source": [
    "x1.ravel(order='F')"
   ]
  },
  {
   "cell_type": "markdown",
   "id": "19557991",
   "metadata": {},
   "source": [
    "### reshape 함수\n",
    "- array의 shape를 다른 차원으로 변경\n",
    "- 주의할 점은 reshape한 후의 결과의 전체 원소 개수와 이전 개수가 같아야 한다.\n",
    "- ex) 이미지 데이터 벡터화 - 이미지는 기본적으로 2차원/3차원이지만 트레이닝을 위해 1차원으로 변경하여 사용됨\n",
    "- 파라미터로 -1를 넣을 경우 시스템이 계산하여 출력함"
   ]
  },
  {
   "cell_type": "code",
   "execution_count": 17,
   "id": "26683c9e",
   "metadata": {},
   "outputs": [
    {
     "name": "stdout",
     "output_type": "stream",
     "text": [
      "[ 0  1  2  3  4  5  6  7  8  9 10 11 12 13 14 15 16 17 18 19 20 21 22 23\n",
      " 24 25 26 27 28 29 30 31 32 33 34 35]\n",
      "(36,)\n",
      "1\n"
     ]
    }
   ],
   "source": [
    "x2=np.arange(36)\n",
    "print(x2)\n",
    "print(x2.shape) #1차원에 36(어떤 모양을 가지고 있는지)\n",
    "print(x2.ndim) #몇 차원인지 출력"
   ]
  },
  {
   "cell_type": "code",
   "execution_count": 18,
   "id": "ce0f5739",
   "metadata": {},
   "outputs": [
    {
     "data": {
      "text/plain": [
       "array([[ 0,  1,  2,  3,  4,  5],\n",
       "       [ 6,  7,  8,  9, 10, 11],\n",
       "       [12, 13, 14, 15, 16, 17],\n",
       "       [18, 19, 20, 21, 22, 23],\n",
       "       [24, 25, 26, 27, 28, 29],\n",
       "       [30, 31, 32, 33, 34, 35]])"
      ]
     },
     "execution_count": 18,
     "metadata": {},
     "output_type": "execute_result"
    }
   ],
   "source": [
    "x2.reshape(6,6)"
   ]
  },
  {
   "cell_type": "code",
   "execution_count": 22,
   "id": "175176f3",
   "metadata": {},
   "outputs": [
    {
     "name": "stdout",
     "output_type": "stream",
     "text": [
      "2\n",
      "(3, 12)\n"
     ]
    }
   ],
   "source": [
    "y=x2.reshape(-1,12) #-1을 넣을 경우 계산은 시스템이 한다.\n",
    "print(y.ndim)\n",
    "print(y.shape)"
   ]
  },
  {
   "cell_type": "code",
   "execution_count": null,
   "id": "ec6d2a8c",
   "metadata": {},
   "outputs": [],
   "source": []
  }
 ],
 "metadata": {
  "kernelspec": {
   "display_name": "Python 3",
   "language": "python",
   "name": "python3"
  },
  "language_info": {
   "codemirror_mode": {
    "name": "ipython",
    "version": 3
   },
   "file_extension": ".py",
   "mimetype": "text/x-python",
   "name": "python",
   "nbconvert_exporter": "python",
   "pygments_lexer": "ipython3",
   "version": "3.8.8"
  }
 },
 "nbformat": 4,
 "nbformat_minor": 5
}
