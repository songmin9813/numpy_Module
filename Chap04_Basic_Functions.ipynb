{
 "cells": [
  {
   "cell_type": "markdown",
   "id": "9f480cbe",
   "metadata": {},
   "source": [
    "### numpy documentation\n",
    "- [numpy 공식 문서 링크](https://numpy.org/doc/stable/reference/index.html)\n",
    "- numpy에서 제공되는 함수 등에 관한 문서"
   ]
  },
  {
   "cell_type": "code",
   "execution_count": 2,
   "id": "80136679",
   "metadata": {},
   "outputs": [],
   "source": [
    "import numpy as np"
   ]
  },
  {
   "cell_type": "code",
   "execution_count": 7,
   "id": "8e4a10ec",
   "metadata": {},
   "outputs": [
    {
     "name": "stdout",
     "output_type": "stream",
     "text": [
      "[[ 0  1  2  3  4]\n",
      " [ 5  6  7  8  9]\n",
      " [10 11 12 13 14]]\n",
      "[[31 66 75 57 99]\n",
      " [24 68 99 47 15]\n",
      " [32 45 91 52 36]]\n"
     ]
    }
   ],
   "source": [
    "x=np.arange(15).reshape(3,5)\n",
    "y=np.random.randint(1,100,15).reshape(3,5)\n",
    "print(x)\n",
    "print(y)\n",
    "#연산을 위한 예제 행렬 생성"
   ]
  },
  {
   "cell_type": "markdown",
   "id": "66b163fb",
   "metadata": {},
   "source": [
    "### 연산 함수\n",
    "- add, substract, multiply, divide\n",
    "- 기존 연산자를 사용해서도 이용 가능"
   ]
  },
  {
   "cell_type": "code",
   "execution_count": 8,
   "id": "862adb84",
   "metadata": {},
   "outputs": [
    {
     "data": {
      "text/plain": [
       "array([[ 31,  67,  77,  60, 103],\n",
       "       [ 29,  74, 106,  55,  24],\n",
       "       [ 42,  56, 103,  65,  50]])"
      ]
     },
     "execution_count": 8,
     "metadata": {},
     "output_type": "execute_result"
    }
   ],
   "source": [
    "np.add(x,y)"
   ]
  },
  {
   "cell_type": "code",
   "execution_count": 9,
   "id": "76a34537",
   "metadata": {},
   "outputs": [
    {
     "data": {
      "text/plain": [
       "array([[-31, -65, -73, -54, -95],\n",
       "       [-19, -62, -92, -39,  -6],\n",
       "       [-22, -34, -79, -39, -22]])"
      ]
     },
     "execution_count": 9,
     "metadata": {},
     "output_type": "execute_result"
    }
   ],
   "source": [
    "np.subtract(x,y)"
   ]
  },
  {
   "cell_type": "code",
   "execution_count": 10,
   "id": "da62d45b",
   "metadata": {},
   "outputs": [
    {
     "data": {
      "text/plain": [
       "array([[   0,   66,  150,  171,  396],\n",
       "       [ 120,  408,  693,  376,  135],\n",
       "       [ 320,  495, 1092,  676,  504]])"
      ]
     },
     "execution_count": 10,
     "metadata": {},
     "output_type": "execute_result"
    }
   ],
   "source": [
    "np.multiply(x,y)"
   ]
  },
  {
   "cell_type": "code",
   "execution_count": 11,
   "id": "ce9231e8",
   "metadata": {},
   "outputs": [
    {
     "data": {
      "text/plain": [
       "array([[0.        , 0.01515152, 0.02666667, 0.05263158, 0.04040404],\n",
       "       [0.20833333, 0.08823529, 0.07070707, 0.17021277, 0.6       ],\n",
       "       [0.3125    , 0.24444444, 0.13186813, 0.25      , 0.38888889]])"
      ]
     },
     "execution_count": 11,
     "metadata": {},
     "output_type": "execute_result"
    }
   ],
   "source": [
    "np.divide(x,y)"
   ]
  },
  {
   "cell_type": "markdown",
   "id": "627375ae",
   "metadata": {},
   "source": [
    "### 통계 함수\n",
    "- 평균, 분산, 중앙, 최대, 최소값 등 통계 관련 함수 내장\n",
    "- loop를 이용한 계산을 거의 하지 않을 것(야호)"
   ]
  },
  {
   "cell_type": "code",
   "execution_count": 12,
   "id": "35dbb8dc",
   "metadata": {},
   "outputs": [
    {
     "data": {
      "text/plain": [
       "55.8"
      ]
     },
     "execution_count": 12,
     "metadata": {},
     "output_type": "execute_result"
    }
   ],
   "source": [
    "np.mean(y)#평균 구하는 방법 1\n",
    "y.mean()#평균 구하는 방법 2"
   ]
  },
  {
   "cell_type": "code",
   "execution_count": 13,
   "id": "391e9c37",
   "metadata": {},
   "outputs": [
    {
     "data": {
      "text/plain": [
       "99"
      ]
     },
     "execution_count": 13,
     "metadata": {},
     "output_type": "execute_result"
    }
   ],
   "source": [
    "np.max(y)#최댓값 구하기"
   ]
  },
  {
   "cell_type": "code",
   "execution_count": 14,
   "id": "589ba542",
   "metadata": {},
   "outputs": [
    {
     "data": {
      "text/plain": [
       "4"
      ]
     },
     "execution_count": 14,
     "metadata": {},
     "output_type": "execute_result"
    }
   ],
   "source": [
    "np.argmax(y)#최댓값의 인덱스 구하기\n",
    "#flatten한 상태(1차원)로 인식하여 인덱싱"
   ]
  },
  {
   "cell_type": "code",
   "execution_count": 15,
   "id": "18174a80",
   "metadata": {},
   "outputs": [
    {
     "data": {
      "text/plain": [
       "670.16"
      ]
     },
     "execution_count": 15,
     "metadata": {},
     "output_type": "execute_result"
    }
   ],
   "source": [
    "np.var(y)#분산"
   ]
  },
  {
   "cell_type": "code",
   "execution_count": 16,
   "id": "23be61f1",
   "metadata": {},
   "outputs": [
    {
     "data": {
      "text/plain": [
       "52.0"
      ]
     },
     "execution_count": 16,
     "metadata": {},
     "output_type": "execute_result"
    }
   ],
   "source": [
    "np.median(y)#중앙값"
   ]
  },
  {
   "cell_type": "code",
   "execution_count": 17,
   "id": "3613f23d",
   "metadata": {},
   "outputs": [
    {
     "data": {
      "text/plain": [
       "25.887448696231154"
      ]
     },
     "execution_count": 17,
     "metadata": {},
     "output_type": "execute_result"
    }
   ],
   "source": [
    "np.std(y)#표준편차"
   ]
  },
  {
   "cell_type": "markdown",
   "id": "95fee0b7",
   "metadata": {},
   "source": [
    "### 집계 함수\n",
    "- 합계(sum), 누적 합계(cumsum) 등 계산 가능"
   ]
  },
  {
   "cell_type": "code",
   "execution_count": 18,
   "id": "faeb2f2c",
   "metadata": {},
   "outputs": [
    {
     "data": {
      "text/plain": [
       "837"
      ]
     },
     "execution_count": 18,
     "metadata": {},
     "output_type": "execute_result"
    }
   ],
   "source": [
    "np.sum(y) #전체의 합"
   ]
  },
  {
   "cell_type": "code",
   "execution_count": 19,
   "id": "b8e58906",
   "metadata": {},
   "outputs": [
    {
     "data": {
      "text/plain": [
       "array([ 31,  97, 172, 229, 328, 352, 420, 519, 566, 581, 613, 658, 749,\n",
       "       801, 837], dtype=int32)"
      ]
     },
     "execution_count": 19,
     "metadata": {},
     "output_type": "execute_result"
    }
   ],
   "source": [
    "np.cumsum(y) #인덱스의 누적합"
   ]
  },
  {
   "cell_type": "markdown",
   "id": "1a00ebcd",
   "metadata": {},
   "source": [
    "### any, all 함수\n",
    "- any : 특정 조건을 만족하는 것이 하나라도 있으면 True, 아니면 False\n",
    "- all : 모든 원소가 특정 조건을 만족하면 True, 아니면 False"
   ]
  },
  {
   "cell_type": "code",
   "execution_count": 21,
   "id": "98343c4d",
   "metadata": {},
   "outputs": [
    {
     "name": "stdout",
     "output_type": "stream",
     "text": [
      "[ 0.23034397  2.63331615 -0.65378328 -1.18460998 -0.64430981  1.46921394\n",
      " -3.57096456  0.81175123  2.13096861 -0.48904095]\n"
     ]
    }
   ],
   "source": [
    "z=np.random.randn(10)\n",
    "print(z)"
   ]
  },
  {
   "cell_type": "code",
   "execution_count": 24,
   "id": "7f8ce009",
   "metadata": {},
   "outputs": [
    {
     "data": {
      "text/plain": [
       "array([ True,  True, False, False, False,  True, False,  True,  True,\n",
       "       False])"
      ]
     },
     "execution_count": 24,
     "metadata": {},
     "output_type": "execute_result"
    }
   ],
   "source": [
    "z>0 #이짝에도 대소 비교 연산자 사용 가능"
   ]
  },
  {
   "cell_type": "code",
   "execution_count": 23,
   "id": "7a95ad87",
   "metadata": {},
   "outputs": [
    {
     "data": {
      "text/plain": [
       "True"
      ]
     },
     "execution_count": 23,
     "metadata": {},
     "output_type": "execute_result"
    }
   ],
   "source": [
    "np.any(z>0) #하나라도 참이 있어서 True"
   ]
  },
  {
   "cell_type": "code",
   "execution_count": 26,
   "id": "0d403a30",
   "metadata": {},
   "outputs": [
    {
     "data": {
      "text/plain": [
       "False"
      ]
     },
     "execution_count": 26,
     "metadata": {},
     "output_type": "execute_result"
    }
   ],
   "source": [
    "np.all(z>0) #하나라도 거짓이 있어서 False"
   ]
  },
  {
   "cell_type": "code",
   "execution_count": 27,
   "id": "1cfaf714",
   "metadata": {},
   "outputs": [
    {
     "data": {
      "text/plain": [
       "True"
      ]
     },
     "execution_count": 27,
     "metadata": {},
     "output_type": "execute_result"
    }
   ],
   "source": [
    "np.all(z!=0)"
   ]
  },
  {
   "cell_type": "markdown",
   "id": "b95854e2",
   "metadata": {},
   "source": [
    "### where 함수\n",
    "- 조건에 따라 선별적으로 값을 선택 가능\n",
    "- ex) 음수인 경우 0, 나머지느 그대로 값을 쓰는 경우\n",
    "- 파라미터 : np.where(**조건, 참인 경우 수식, 거짓인 경우 수식**)"
   ]
  },
  {
   "cell_type": "code",
   "execution_count": 29,
   "id": "62745903",
   "metadata": {},
   "outputs": [
    {
     "name": "stdout",
     "output_type": "stream",
     "text": [
      "[ 1.41968395 -0.05181132 -2.05035214 -1.82322885 -0.43435361  2.01140543\n",
      "  0.99591854 -1.67840818 -0.97716628 -0.29068835]\n"
     ]
    }
   ],
   "source": [
    "z=np.random.randn(10)\n",
    "print(z)"
   ]
  },
  {
   "cell_type": "code",
   "execution_count": 31,
   "id": "b1bf704d",
   "metadata": {},
   "outputs": [
    {
     "data": {
      "text/plain": [
       "array([1.41968395, 0.        , 0.        , 0.        , 0.        ,\n",
       "       2.01140543, 0.99591854, 0.        , 0.        , 0.        ])"
      ]
     },
     "execution_count": 31,
     "metadata": {},
     "output_type": "execute_result"
    }
   ],
   "source": [
    "np.where(z>0,z,0) #모든 값에 대해 0보다 크다면 그대로 사용, 아니면 0으로 바꾸기"
   ]
  },
  {
   "cell_type": "code",
   "execution_count": null,
   "id": "de09bdcb",
   "metadata": {},
   "outputs": [],
   "source": []
  }
 ],
 "metadata": {
  "kernelspec": {
   "display_name": "Python 3",
   "language": "python",
   "name": "python3"
  },
  "language_info": {
   "codemirror_mode": {
    "name": "ipython",
    "version": 3
   },
   "file_extension": ".py",
   "mimetype": "text/x-python",
   "name": "python",
   "nbconvert_exporter": "python",
   "pygments_lexer": "ipython3",
   "version": "3.8.8"
  }
 },
 "nbformat": 4,
 "nbformat_minor": 5
}
