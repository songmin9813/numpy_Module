{
 "cells": [
  {
   "cell_type": "code",
   "execution_count": 4,
   "id": "69420a9d",
   "metadata": {},
   "outputs": [],
   "source": [
    "import numpy as np"
   ]
  },
  {
   "cell_type": "markdown",
   "id": "d10c08b2",
   "metadata": {},
   "source": [
    "### np.linalg.inv\n",
    "- 역행렬을 구할 때 사용\n",
    "- 모든 차원의 값이 같아야 함"
   ]
  },
  {
   "cell_type": "code",
   "execution_count": 5,
   "id": "ebe8c088",
   "metadata": {},
   "outputs": [
    {
     "name": "stdout",
     "output_type": "stream",
     "text": [
      "[[48  6 84]\n",
      " [ 6 76 48]\n",
      " [25 26 37]]\n"
     ]
    },
    {
     "data": {
      "text/plain": [
       "array([[ 1.00000000e+00, -4.16333634e-17, -1.38777878e-16],\n",
       "       [ 5.55111512e-17,  1.00000000e+00, -3.33066907e-16],\n",
       "       [ 1.07552856e-16, -1.76941795e-16,  1.00000000e+00]])"
      ]
     },
     "execution_count": 5,
     "metadata": {},
     "output_type": "execute_result"
    }
   ],
   "source": [
    "x=np.random.randint(100,size=(3,3))\n",
    "print(x)\n",
    "x@np.linalg.inv(x)"
   ]
  },
  {
   "cell_type": "markdown",
   "id": "9d300280",
   "metadata": {},
   "source": [
    "### np.linalg.solve\n",
    "- Ax=B 형태의 선형대수식 솔루션을 제공\n",
    "- ex)\n",
    "  - x+y=25\n",
    "  - 2x+4y=64"
   ]
  },
  {
   "cell_type": "code",
   "execution_count": 6,
   "id": "2dcbe1cd",
   "metadata": {},
   "outputs": [
    {
     "name": "stdout",
     "output_type": "stream",
     "text": [
      "[18.  7.]\n",
      "[25. 64.]\n"
     ]
    },
    {
     "data": {
      "text/plain": [
       "True"
      ]
     },
     "execution_count": 6,
     "metadata": {},
     "output_type": "execute_result"
    }
   ],
   "source": [
    "A=np.array([[1,1],[2,4]])\n",
    "B=([25,64])\n",
    "x=np.linalg.solve(A,B)#행렬의 x값을 찾아낼 수 있음\n",
    "print(x)\n",
    "\n",
    "print(A@x)\n",
    "np.allclose(A@x,B) #이 수식이 맞는지 확인"
   ]
  },
  {
   "cell_type": "code",
   "execution_count": 7,
   "id": "0902093e",
   "metadata": {},
   "outputs": [
    {
     "name": "stdout",
     "output_type": "stream",
     "text": [
      "[[1 1]\n",
      " [2 4]]\n"
     ]
    }
   ],
   "source": [
    "print(A)"
   ]
  },
  {
   "cell_type": "code",
   "execution_count": null,
   "id": "249c9227",
   "metadata": {},
   "outputs": [],
   "source": []
  },
  {
   "cell_type": "code",
   "execution_count": null,
   "id": "3344b497",
   "metadata": {},
   "outputs": [],
   "source": []
  }
 ],
 "metadata": {
  "kernelspec": {
   "display_name": "Python 3",
   "language": "python",
   "name": "python3"
  },
  "language_info": {
   "codemirror_mode": {
    "name": "ipython",
    "version": 3
   },
   "file_extension": ".py",
   "mimetype": "text/x-python",
   "name": "python",
   "nbconvert_exporter": "python",
   "pygments_lexer": "ipython3",
   "version": "3.8.8"
  }
 },
 "nbformat": 4,
 "nbformat_minor": 5
}
