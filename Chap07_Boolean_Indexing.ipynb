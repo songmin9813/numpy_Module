{
 "cells": [
  {
   "cell_type": "markdown",
   "id": "c1ba4fab",
   "metadata": {},
   "source": [
    "### Boolean indexing\n",
    "- ndarray 인덱싱 시, bool 리스트를 전달하여 True인 경우에만 필터링"
   ]
  },
  {
   "cell_type": "markdown",
   "id": "dd3d827a",
   "metadata": {},
   "source": [
    "- 브로드캐스팅을 활용하여 ndarray로부터 bool list 얻기\n",
    "  - ex) 짝수인 경우만 찾아보기"
   ]
  },
  {
   "cell_type": "code",
   "execution_count": 1,
   "id": "868e94df",
   "metadata": {},
   "outputs": [],
   "source": [
    "import numpy as np"
   ]
  },
  {
   "cell_type": "code",
   "execution_count": 2,
   "id": "244775ed",
   "metadata": {},
   "outputs": [
    {
     "name": "stdout",
     "output_type": "stream",
     "text": [
      "[94 69 89 80 36 50 44 67  8 42]\n"
     ]
    }
   ],
   "source": [
    "x=np.random.randint(1,100,size=10)\n",
    "print(x)"
   ]
  },
  {
   "cell_type": "code",
   "execution_count": 4,
   "id": "0a1465a3",
   "metadata": {},
   "outputs": [],
   "source": [
    "mask=x%2==0"
   ]
  },
  {
   "cell_type": "markdown",
   "id": "db0b4393",
   "metadata": {},
   "source": [
    "- 위의 리스트를 인덱스로 전달해보자"
   ]
  },
  {
   "cell_type": "code",
   "execution_count": 6,
   "id": "f6db9833",
   "metadata": {},
   "outputs": [
    {
     "data": {
      "text/plain": [
       "array([94, 80, 36, 50, 44,  8, 42])"
      ]
     },
     "execution_count": 6,
     "metadata": {},
     "output_type": "execute_result"
    }
   ],
   "source": [
    "x[mask] #True인 인덱스에 한해서만 출력이 된 것을 확인할 수 있다."
   ]
  },
  {
   "cell_type": "code",
   "execution_count": 7,
   "id": "9e90f835",
   "metadata": {},
   "outputs": [
    {
     "data": {
      "text/plain": [
       "array([94, 80, 36, 50, 44,  8, 42])"
      ]
     },
     "execution_count": 7,
     "metadata": {},
     "output_type": "execute_result"
    }
   ],
   "source": [
    "x[x%2==0] #위와 같은 형태임."
   ]
  },
  {
   "cell_type": "code",
   "execution_count": 8,
   "id": "f0eb0339",
   "metadata": {},
   "outputs": [
    {
     "data": {
      "text/plain": [
       "array([94, 69, 89, 80, 36, 50, 44, 67, 42])"
      ]
     },
     "execution_count": 8,
     "metadata": {},
     "output_type": "execute_result"
    }
   ],
   "source": [
    "x[x>30]"
   ]
  },
  {
   "cell_type": "markdown",
   "id": "e99dd4ef",
   "metadata": {},
   "source": [
    "### 다중조건 사용\n",
    "- 파이썬 논리 연산자인 and, or, not 사용은 불가능\n",
    "- &(and), |(or)을 사용한다."
   ]
  },
  {
   "cell_type": "code",
   "execution_count": 10,
   "id": "d6bf03cf",
   "metadata": {},
   "outputs": [
    {
     "data": {
      "text/plain": [
       "array([94, 80, 36, 50, 44, 42])"
      ]
     },
     "execution_count": 10,
     "metadata": {},
     "output_type": "execute_result"
    }
   ],
   "source": [
    "x[(x%2==0)&(x>30)]"
   ]
  },
  {
   "cell_type": "code",
   "execution_count": 11,
   "id": "6f6d7895",
   "metadata": {},
   "outputs": [
    {
     "data": {
      "text/plain": [
       "array([94, 69, 89, 80, 67,  8])"
      ]
     },
     "execution_count": 11,
     "metadata": {},
     "output_type": "execute_result"
    }
   ],
   "source": [
    "x[(x>60)|(x<30)]"
   ]
  },
  {
   "cell_type": "markdown",
   "id": "8880493f",
   "metadata": {},
   "source": [
    "### 예제. 2019년 7월 서울 평균기온 데이터\n",
    "- 평균기온이 25도를 넘는 날수는?\n",
    "- 평균기온이 25를 넘는 남의 평균 기온은?"
   ]
  },
  {
   "cell_type": "code",
   "execution_count": 12,
   "id": "a2b483c9",
   "metadata": {},
   "outputs": [],
   "source": [
    "temp = np.array(\n",
    "        [23.9, 24.4, 24.1, 25.4, 27.6, 29.7,\n",
    "         26.7, 25.1, 25.0, 22.7, 21.9, 23.6, \n",
    "         24.9, 25.9, 23.8, 24.7, 25.6, 26.9, \n",
    "         28.6, 28.0, 25.1, 26.7, 28.1, 26.5, \n",
    "         26.3, 25.9, 28.4, 26.1, 27.5, 28.1, 25.8])"
   ]
  },
  {
   "cell_type": "code",
   "execution_count": 19,
   "id": "67ab90a4",
   "metadata": {},
   "outputs": [
    {
     "data": {
      "text/plain": [
       "21"
      ]
     },
     "execution_count": 19,
     "metadata": {},
     "output_type": "execute_result"
    }
   ],
   "source": [
    "np.count_nonzero(temp>25)"
   ]
  },
  {
   "cell_type": "code",
   "execution_count": 20,
   "id": "6ecc91de",
   "metadata": {},
   "outputs": [
    {
     "data": {
      "text/plain": [
       "31"
      ]
     },
     "execution_count": 20,
     "metadata": {},
     "output_type": "execute_result"
    }
   ],
   "source": [
    "len(temp)"
   ]
  },
  {
   "cell_type": "code",
   "execution_count": 23,
   "id": "5d204038",
   "metadata": {},
   "outputs": [
    {
     "data": {
      "text/plain": [
       "26.857142857142858"
      ]
     },
     "execution_count": 23,
     "metadata": {},
     "output_type": "execute_result"
    }
   ],
   "source": [
    "np.average(temp[temp>25])#temp 리스트로 한 번 걸어주어야 함\n",
    "#mean을 써도 무방. 이 둘의 미묘한 차이가 있기는 함"
   ]
  },
  {
   "cell_type": "code",
   "execution_count": null,
   "id": "54def48a",
   "metadata": {},
   "outputs": [],
   "source": []
  }
 ],
 "metadata": {
  "kernelspec": {
   "display_name": "Python 3",
   "language": "python",
   "name": "python3"
  },
  "language_info": {
   "codemirror_mode": {
    "name": "ipython",
    "version": 3
   },
   "file_extension": ".py",
   "mimetype": "text/x-python",
   "name": "python",
   "nbconvert_exporter": "python",
   "pygments_lexer": "ipython3",
   "version": "3.8.8"
  }
 },
 "nbformat": 4,
 "nbformat_minor": 5
}
