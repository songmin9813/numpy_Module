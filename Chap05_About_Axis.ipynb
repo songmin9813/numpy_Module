{
 "cells": [
  {
   "cell_type": "markdown",
   "id": "a74c8032",
   "metadata": {},
   "source": [
    "- 각 차원을 의미하는 axis\n",
    "- ex) 2차원 행렬이라면 0,1을 기본값으로 가지고 있다.\n",
    "- 아무것도 명시하지 않다면 기본값은 전체를 둠"
   ]
  },
  {
   "cell_type": "code",
   "execution_count": 1,
   "id": "2eb366d0",
   "metadata": {},
   "outputs": [],
   "source": [
    "import numpy as np"
   ]
  },
  {
   "cell_type": "markdown",
   "id": "0d8b08c3",
   "metadata": {},
   "source": [
    "### numpy 이해하기\n",
    "- 몇몇 함수에는 axis keyword 파라미터가 존재(거의 대부분의 연산 함수)\n",
    "- axis값이 없는 경우에는 전체 데이터에 대해 적용\n",
    "- axis값이 있는 경우에는 **해당 axis를 따라서 적용**\n",
    "  - 따라서 결과는 해당 axis가 제외된 나머지 차원의 데이터만 남게 됨"
   ]
  },
  {
   "cell_type": "code",
   "execution_count": 2,
   "id": "8a0b878b",
   "metadata": {},
   "outputs": [],
   "source": [
    "x=np.arange(15)"
   ]
  },
  {
   "cell_type": "code",
   "execution_count": 3,
   "id": "2417eb42",
   "metadata": {},
   "outputs": [
    {
     "data": {
      "text/plain": [
       "105"
      ]
     },
     "execution_count": 3,
     "metadata": {},
     "output_type": "execute_result"
    }
   ],
   "source": [
    "np.sum(x)"
   ]
  },
  {
   "cell_type": "code",
   "execution_count": 5,
   "id": "e5cab3c5",
   "metadata": {},
   "outputs": [
    {
     "data": {
      "text/plain": [
       "105"
      ]
     },
     "execution_count": 5,
     "metadata": {},
     "output_type": "execute_result"
    }
   ],
   "source": [
    "np.sum(x,axis=0) #축이 1개라는 의미\n",
    "#-1차원 벡터는 축이 존재하지 않는다.\n",
    "#axis=1이라면 존재하지 않은 축에 대해 적용하였기 때문에 오류가 발생"
   ]
  },
  {
   "cell_type": "code",
   "execution_count": 7,
   "id": "5fdbd801",
   "metadata": {},
   "outputs": [
    {
     "name": "stdout",
     "output_type": "stream",
     "text": [
      "[[ 0  1  2  3  4]\n",
      " [ 5  6  7  8  9]\n",
      " [10 11 12 13 14]]\n"
     ]
    }
   ],
   "source": [
    "y=x.reshape(3,5)\n",
    "print(y)"
   ]
  },
  {
   "cell_type": "markdown",
   "id": "5954bf2d",
   "metadata": {},
   "source": [
    "- 행이 증가하는 방향이 1\n",
    "- 열이 증가하는 방향이 0(1차원의 기본값을 기억하면서)"
   ]
  },
  {
   "cell_type": "code",
   "execution_count": 8,
   "id": "c794e541",
   "metadata": {},
   "outputs": [
    {
     "data": {
      "text/plain": [
       "array([10, 35, 60])"
      ]
     },
     "execution_count": 8,
     "metadata": {},
     "output_type": "execute_result"
    }
   ],
   "source": [
    "np.sum(y,axis=1) #각 행의 합을 리스트 형태로 저장"
   ]
  },
  {
   "cell_type": "code",
   "execution_count": 9,
   "id": "4feb3fb7",
   "metadata": {},
   "outputs": [
    {
     "data": {
      "text/plain": [
       "array([15, 18, 21, 24, 27])"
      ]
     },
     "execution_count": 9,
     "metadata": {},
     "output_type": "execute_result"
    }
   ],
   "source": [
    "np.sum(y,axis=0) #각 열의 합을 리스트 형태로 저장"
   ]
  },
  {
   "cell_type": "code",
   "execution_count": 11,
   "id": "de2cfc45",
   "metadata": {},
   "outputs": [
    {
     "name": "stdout",
     "output_type": "stream",
     "text": [
      "[[[ 0  1  2]\n",
      "  [ 3  4  5]\n",
      "  [ 6  7  8]\n",
      "  [ 9 10 11]]\n",
      "\n",
      " [[12 13 14]\n",
      "  [15 16 17]\n",
      "  [18 19 20]\n",
      "  [21 22 23]]\n",
      "\n",
      " [[24 25 26]\n",
      "  [27 28 29]\n",
      "  [30 31 32]\n",
      "  [33 34 35]]]\n"
     ]
    },
    {
     "data": {
      "text/plain": [
       "array([[36, 39, 42],\n",
       "       [45, 48, 51],\n",
       "       [54, 57, 60],\n",
       "       [63, 66, 69]])"
      ]
     },
     "execution_count": 11,
     "metadata": {},
     "output_type": "execute_result"
    }
   ],
   "source": [
    "z=np.arange(36).reshape(3,4,3)\n",
    "print(z)\n",
    "np.sum(z,axis=0)"
   ]
  },
  {
   "cell_type": "code",
   "execution_count": 12,
   "id": "807ea354",
   "metadata": {},
   "outputs": [
    {
     "data": {
      "text/plain": [
       "array([[ 18,  22,  26],\n",
       "       [ 66,  70,  74],\n",
       "       [114, 118, 122]])"
      ]
     },
     "execution_count": 12,
     "metadata": {},
     "output_type": "execute_result"
    }
   ],
   "source": [
    "np.sum(z,axis=1)"
   ]
  },
  {
   "cell_type": "code",
   "execution_count": 13,
   "id": "342b5e3e",
   "metadata": {},
   "outputs": [
    {
     "data": {
      "text/plain": [
       "array([[  3,  12,  21,  30],\n",
       "       [ 39,  48,  57,  66],\n",
       "       [ 75,  84,  93, 102]])"
      ]
     },
     "execution_count": 13,
     "metadata": {},
     "output_type": "execute_result"
    }
   ],
   "source": [
    "np.sum(z,axis=2)\n",
    "#np.sum(z,axis=-1) #음수도 지원하긴 하다만 비추천"
   ]
  },
  {
   "cell_type": "markdown",
   "id": "c8893a57",
   "metadata": {},
   "source": [
    "- axis의 값이 튜플일 경우\n",
    "  - 해당 튜플에 명시된 모든 axis에 대해서 연산"
   ]
  },
  {
   "cell_type": "code",
   "execution_count": 14,
   "id": "5051ca06",
   "metadata": {},
   "outputs": [
    {
     "name": "stdout",
     "output_type": "stream",
     "text": [
      "[[[ 0  1  2]\n",
      "  [ 3  4  5]\n",
      "  [ 6  7  8]\n",
      "  [ 9 10 11]]\n",
      "\n",
      " [[12 13 14]\n",
      "  [15 16 17]\n",
      "  [18 19 20]\n",
      "  [21 22 23]]\n",
      "\n",
      " [[24 25 26]\n",
      "  [27 28 29]\n",
      "  [30 31 32]\n",
      "  [33 34 35]]]\n"
     ]
    }
   ],
   "source": [
    "print(z)"
   ]
  },
  {
   "cell_type": "code",
   "execution_count": 15,
   "id": "cf90d6d8",
   "metadata": {},
   "outputs": [
    {
     "data": {
      "text/plain": [
       "array([198, 210, 222])"
      ]
     },
     "execution_count": 15,
     "metadata": {},
     "output_type": "execute_result"
    }
   ],
   "source": [
    "np.sum(z,axis=(0,1)) #두 면을 합쳐서 표현할수도 있음"
   ]
  },
  {
   "cell_type": "markdown",
   "id": "f3e58f61",
   "metadata": {},
   "source": [
    "- pandas의 값은 기본적으로 2차원 행렬\n",
    "  - 0과1 의 axis를 가지고 있음에 주의"
   ]
  },
  {
   "cell_type": "code",
   "execution_count": null,
   "id": "fdfbec5f",
   "metadata": {},
   "outputs": [],
   "source": []
  }
 ],
 "metadata": {
  "kernelspec": {
   "display_name": "Python 3",
   "language": "python",
   "name": "python3"
  },
  "language_info": {
   "codemirror_mode": {
    "name": "ipython",
    "version": 3
   },
   "file_extension": ".py",
   "mimetype": "text/x-python",
   "name": "python",
   "nbconvert_exporter": "python",
   "pygments_lexer": "ipython3",
   "version": "3.8.8"
  }
 },
 "nbformat": 4,
 "nbformat_minor": 5
}
